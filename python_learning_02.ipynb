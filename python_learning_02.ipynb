{
  "nbformat": 4,
  "nbformat_minor": 0,
  "metadata": {
    "colab": {
      "name": "python_learning_02.ipynb",
      "provenance": [],
      "collapsed_sections": [],
      "authorship_tag": "ABX9TyPjXsunn995GXebO/RYui6A",
      "include_colab_link": true
    },
    "kernelspec": {
      "name": "python3",
      "display_name": "Python 3"
    }
  },
  "cells": [
    {
      "cell_type": "markdown",
      "metadata": {
        "id": "view-in-github",
        "colab_type": "text"
      },
      "source": [
        "<a href=\"https://colab.research.google.com/github/sureshbabuamara/python/blob/master/python_learning_02.ipynb\" target=\"_parent\"><img src=\"https://colab.research.google.com/assets/colab-badge.svg\" alt=\"Open In Colab\"/></a>"
      ]
    },
    {
      "cell_type": "markdown",
      "metadata": {
        "id": "0wF2MCvlZSe2",
        "colab_type": "text"
      },
      "source": [
        "# List --- Ordered and Indexed and Changeable"
      ]
    },
    {
      "cell_type": "code",
      "metadata": {
        "id": "tXH5pAkXUNHW",
        "colab_type": "code",
        "colab": {
          "base_uri": "https://localhost:8080/",
          "height": 437
        },
        "outputId": "964a730e-69c0-429f-9d4a-8431277870d2"
      },
      "source": [
        "aList = ['apple','banana','carrot','dragon'] #Normal way of creating the List\n",
        "print(aList)\n",
        "\n",
        "aList = list(('apple','banana','carrot','dragon')) #Creating a list using LIST constructor\n",
        "print(aList)\n",
        "\n",
        "for x in aList:\n",
        "  print(x)\n",
        "\n",
        "if aList[2] == 'carrot':\n",
        "  print('Yes','Carrto is found')\n",
        "\n",
        "if 'carrot' in aList:\n",
        "  print('Yes','Carrto is found')\n",
        "\n",
        "aList.append('apple')\n",
        "print(aList)\n",
        "\n",
        "aList.insert(1,'apple')\n",
        "print(aList)\n",
        "\n",
        "aList.remove('apple')\n",
        "print(aList)\n",
        "\n",
        "aList.clear()\n",
        "print(aList)\n",
        "\n",
        "aList = ['apple','banana','carrot','dragon']\n",
        "del aList\n",
        "#print(aList)\n",
        "\n",
        "aList = ['apple','banana','carrot','dragon']\n",
        "del aList[0]\n",
        "print(aList)\n",
        "\n",
        "aList.pop() # Pop is used to delete the last value in the list\n",
        "print('pop',aList)\n",
        "\n",
        "\n",
        "aList = ['apple','banana','carrot','dragon']\n",
        "dList = aList.copy() # copy will just copy the data from this list to another, if we use \"dList = aList\" then we are just using a reference of aList in dList, any addition or deletion of values in aList will impact dList\n",
        "print('dList',dList)\n",
        "aList.append('zoo')\n",
        "print('append alist',aList)\n",
        "print('dList',dList)\n",
        "\n",
        "aList = ['apple','banana','carrot','dragon']\n",
        "bList = ['aeroplane','bus','car', 'desire']\n",
        "bList.extend(aList) # adding values from one list to other\n",
        "print('extend',bList)\n",
        "\n",
        "print('Sorted',sorted(bList,key=None,reverse=False)) #Sorted function will only display the output in sort order, but data order inside the list is not distrubed\n",
        "print('bList',bList)\n",
        "\n",
        "cList = (sorted(bList,key=None,reverse=False)).copy #THIS DIDNT WORK\n",
        "print('cList', cList)\n",
        "\n",
        "bList.sort() #Sort will change the order inside the list it self permanantely\n",
        "print('sort',bList)\n",
        "\n",
        "bList.reverse()\n",
        "print('Reverse',bList)\n",
        "\n",
        "print('Count', bList.count('apple'))\n",
        "print('Index', bList.index('apple'))\n",
        "\n"
      ],
      "execution_count": null,
      "outputs": [
        {
          "output_type": "stream",
          "text": [
            "['apple', 'banana', 'carrot', 'dragon']\n",
            "['apple', 'banana', 'carrot', 'dragon']\n",
            "apple\n",
            "banana\n",
            "carrot\n",
            "dragon\n",
            "Yes Carrto is found\n",
            "Yes Carrto is found\n",
            "['apple', 'banana', 'carrot', 'dragon', 'apple']\n",
            "['apple', 'apple', 'banana', 'carrot', 'dragon', 'apple']\n",
            "['apple', 'banana', 'carrot', 'dragon', 'apple']\n",
            "[]\n",
            "['banana', 'carrot', 'dragon']\n",
            "pop ['banana', 'carrot']\n",
            "dList ['apple', 'banana', 'carrot', 'dragon']\n",
            "append alist ['apple', 'banana', 'carrot', 'dragon', 'zoo']\n",
            "dList ['apple', 'banana', 'carrot', 'dragon']\n",
            "extend ['aeroplane', 'bus', 'car', 'desire', 'apple', 'banana', 'carrot', 'dragon']\n",
            "Sorted ['aeroplane', 'apple', 'banana', 'bus', 'car', 'carrot', 'desire', 'dragon']\n",
            "bList ['aeroplane', 'bus', 'car', 'desire', 'apple', 'banana', 'carrot', 'dragon']\n",
            "cList <built-in method copy of list object at 0x7feea2f4d848>\n",
            "sort ['aeroplane', 'apple', 'banana', 'bus', 'car', 'carrot', 'desire', 'dragon']\n",
            "Reverse ['dragon', 'desire', 'carrot', 'car', 'bus', 'banana', 'apple', 'aeroplane']\n",
            "Count 1\n",
            "Index 6\n"
          ],
          "name": "stdout"
        }
      ]
    },
    {
      "cell_type": "markdown",
      "metadata": {
        "id": "2RmYGmhxaLMX",
        "colab_type": "text"
      },
      "source": [
        "copy(), \n",
        "count()/Len(), \n",
        "extend(), \n",
        "index(), \n",
        "reverse(), \n",
        "sort()![alt text](https://)"
      ]
    },
    {
      "cell_type": "markdown",
      "metadata": {
        "id": "122LYPjwZbhB",
        "colab_type": "text"
      },
      "source": [
        "#Tuples  --- Ordered and indexed and NOT changable\n",
        "Tuple is like List, but once its created, values cant be changed. Only option in tuple is deleting the entire tuple"
      ]
    },
    {
      "cell_type": "code",
      "metadata": {
        "id": "AR6a4EHasu4g",
        "colab_type": "code",
        "colab": {
          "base_uri": "https://localhost:8080/",
          "height": 168
        },
        "outputId": "ba95fb84-44d5-4aab-f2ba-621a88d0684f"
      },
      "source": [
        "aTuple = ('a','b','c','d')\n",
        "print(aTuple)\n",
        "\n",
        "del aTuple\n",
        "#print(aTuple)\n",
        "\n",
        "aTuple = ('a','b','c','d')\n",
        "for x in aTuple:\n",
        "  print(x)\n",
        "\n",
        "if 'a' in aTuple:\n",
        "  print('Yes', 'Found you...')\n",
        "\n",
        "aTuple = tuple(('a','b','c','d')) # another way of creating the tuple is through constructor\n",
        "print(aTuple)\n",
        "\n",
        "print(aTuple.count('a'))\n",
        "print(aTuple.index('a'))\n"
      ],
      "execution_count": 1,
      "outputs": [
        {
          "output_type": "stream",
          "text": [
            "('a', 'b', 'c', 'd')\n",
            "a\n",
            "b\n",
            "c\n",
            "d\n",
            "Yes Found you...\n",
            "('a', 'b', 'c', 'd')\n",
            "1\n",
            "0\n"
          ],
          "name": "stdout"
        }
      ]
    },
    {
      "cell_type": "code",
      "metadata": {
        "id": "Nba9GPiuZg1U",
        "colab_type": "code",
        "colab": {}
      },
      "source": [
        ""
      ],
      "execution_count": null,
      "outputs": []
    },
    {
      "cell_type": "markdown",
      "metadata": {
        "id": "6yLjKcg3zINz",
        "colab_type": "text"
      },
      "source": [
        "#Sets  --- Unordered and NOT indexed and `NOT` `changable`\n"
      ]
    },
    {
      "cell_type": "code",
      "metadata": {
        "id": "Jr-wbANw2Cft",
        "colab_type": "code",
        "colab": {
          "base_uri": "https://localhost:8080/",
          "height": 370
        },
        "outputId": "56c941f5-0f9c-47a7-c337-4e3af1fbf401"
      },
      "source": [
        "aSet = {'a','b','c','d','e'}\n",
        "print(aSet)\n",
        "\n",
        "bSet = set(('a','b','c','d','e')) # create set using constructor\n",
        "print(bSet)\n",
        "\n",
        "aSet = {'a','b','c','d'}\n",
        "for x in aSet:\n",
        "  print(x) # order of output is not guranteed in Sets\n",
        "\n",
        "#if 'a' in aSet: -- This doesnt work in Sets, instead use below\n",
        "print('z' in aSet) # answer will be True/False\n",
        "\n",
        "aSet.add('e')\n",
        "print('e' in aSet, '- Found e')\n",
        "\n",
        "aSet.update('e','f','j')\n",
        "print(aSet)\n",
        "\n",
        "x = aSet.pop() # This will remove the last value from the set, as Set is unordered, we dont know which value will be removed\n",
        "print ('pop', x) \n",
        "\n",
        "aSet.remove('f') # This will through an error if the value is not in the Set (ex: 'f' is not in the Set)\n",
        "print (aSet) \n",
        "\n",
        "aSet.discard('f') # This will NOT through an error if the value is not in the Set (ex: 'f' is not in the Set)\n",
        "print (aSet) \n",
        "\n",
        "x = aSet.pop() # This will remove any ONE value from the Set\n",
        "print(x) \n",
        "print (aSet)\n",
        "\n",
        "aSet.clear() # To clear all the values from the set\n",
        "del aSet # To delete the enitre Set\n",
        "\n",
        "aSet = {'a','b','c','d','e'}\n",
        "bSet = {'z','y','x','d','e'}\n",
        "print('difference', aSet.difference(bSet)) # This is to DISPLAY the difference of aSet values with bSet\n",
        "print(\"difference using '-' minus\",aSet - bSet) # This is to DISPLAY the difference of aSet values with bSet using minus operator\n",
        "\n",
        "aSet = {'a','b','c','d','e'}\n",
        "bSet = {'z','y','x','d','e'}\n",
        "aSet.difference_update(bSet) # This is to UPDATE the difference of aSet values with bSet in aSet\n",
        "print('difference_update',aSet)\n",
        "\n",
        "aSet = {'a','b','c','d','e',''}\n",
        "bSet = {'z','y','x','d','e','2',' '}\n",
        "cSet = {'m','n','o','d','e','3','5','6'}\n",
        "print('intersection', cSet.intersection(aSet, bSet)) # This is to DISPLAY the common values of aSet, bSet (or any number of sets)\n",
        "\n",
        "cSet.intersection_update(aSet,bSet)\n",
        "print('intersection_update', cSet) # This is to UPDATE the common values of aSet, bSet (or any number of sets)\n",
        "\n",
        "aSet = {1,2,3,4}\n",
        "bSet = {1,4,3,2,5}\n",
        "print ('isSubset', bSet.issubset(aSet)) # Returns True if the bSet has all the values that are in aSet\n",
        "print ('isSubset', bSet.issuperset(aSet)) # Returns True if the aSet has all the values that are in bSet\n",
        "\n"
      ],
      "execution_count": null,
      "outputs": [
        {
          "output_type": "stream",
          "text": [
            "{'b', 'e', 'a', 'c', 'd'}\n",
            "{'b', 'e', 'a', 'c', 'd'}\n",
            "b\n",
            "c\n",
            "d\n",
            "a\n",
            "False\n",
            "True - Found e\n",
            "{'b', 'f', 'e', 'a', 'c', 'd', 'j'}\n",
            "pop b\n",
            "{'e', 'a', 'c', 'd', 'j'}\n",
            "{'e', 'a', 'c', 'd', 'j'}\n",
            "e\n",
            "{'a', 'c', 'd', 'j'}\n",
            "difference {'b', 'c', 'a'}\n",
            "difference using '-' minus {'b', 'c', 'a'}\n",
            "difference_update {'b', 'a', 'c'}\n",
            "intersection {'e', 'd'}\n",
            "intersection_update {'e', 'd'}\n",
            "isSubset False\n",
            "isSubset True\n"
          ],
          "name": "stdout"
        }
      ]
    },
    {
      "cell_type": "markdown",
      "metadata": {
        "id": "wScYzbXox-yw",
        "colab_type": "text"
      },
      "source": [
        "# Dictionaries {Key:Value} - Unordered and Indexed and Changeable"
      ]
    },
    {
      "cell_type": "code",
      "metadata": {
        "id": "y9aSrtHm0a7z",
        "colab_type": "code",
        "colab": {
          "base_uri": "https://localhost:8080/",
          "height": 521
        },
        "outputId": "0c00961e-fc7d-411c-e02f-a0107887ab91"
      },
      "source": [
        "aDict = {\"brand\":\"Honda\", \"model\":\"Accord\", \"Year\":2008}\n",
        "\n",
        "aDict = dict(brand:\"Honda\", model:\"Accord\", Year:2008) # Style 2 - Using a constructor and no need to specify KEYS in quoutes\n",
        "\n",
        "x = aDict[\"brand\"] #Accessing value style 1\n",
        "print(x)\n",
        "\n",
        "y = aDict.get(\"model\") #Accessing value Style 2\n",
        "print(y)\n",
        "\n",
        "aDict[\"color\"] = \"white\" # To add a new Key and value to an existing dictionary\n",
        "print(aDict[\"color\"])\n",
        "\n",
        "aDict[\"Year\"] = 2010 # To change a value of a key\n",
        "print(aDict[\"Year\"])\n",
        "\n",
        "for x in aDict: # To get the KEYS from a dict\n",
        "  print(x)\n",
        "\n",
        "for x in aDict: \n",
        "  print(aDict[x])  # To get the VALUES from a dict -- Style 1\n",
        "  print(x,aDict[x]) # To get the KEYS, VALUES from a dict -- Style 1\n",
        "\n",
        "for x in aDict.values(): \n",
        "  print(x)  # To get the VALUES from a dict -- Style 2\n",
        "  \n",
        "for x,y in aDict.items(): \n",
        "  print(x,y) # To get the KEYS, VALUES from a dict -- Style 2\n",
        "\n",
        "if 'color' in aDict:\n",
        "  print('Yes','color is in the key list') # To check the KEY in the Dictionary\n",
        "\n",
        "if 'white' in aDict.values():\n",
        "  print('Yes','white is in the value list') # To check the VALUE in the Dictionary\n",
        "\n",
        "print(len(aDict)) # how many key:value pairs\n",
        "\n",
        "aDict.popitem()\n",
        "print(aDict) # this will remove last key:value pair\n",
        "\n",
        "aDict.pop('model')\n",
        "print(aDict) # this will remove both Key and Value - Style 1\n",
        "\n",
        "del aDict['brand']\n",
        "print(aDict) # this will remove both Key and Value - Style 2\n",
        "\n",
        "del aDict # this will remove the entire Dictionary\n",
        "#Print(aDict) \n",
        "\n",
        "aDict = {\"brand\":\"Honda\", \"model\":\"Accord\", \"Year\":2008}\n",
        "aDict.clear()\n",
        "Print(aDict)"
      ],
      "execution_count": 7,
      "outputs": [
        {
          "output_type": "stream",
          "text": [
            "Honda\n",
            "Accord\n",
            "white\n",
            "2010\n",
            "brand\n",
            "model\n",
            "Year\n",
            "color\n",
            "Honda\n",
            "brand Honda\n",
            "Accord\n",
            "model Accord\n",
            "2010\n",
            "Year 2010\n",
            "white\n",
            "color white\n",
            "Honda\n",
            "Accord\n",
            "2010\n",
            "white\n",
            "brand Honda\n",
            "model Accord\n",
            "Year 2010\n",
            "color white\n",
            "Yes color is in the key list\n",
            "Yes white is in the value list\n",
            "4\n",
            "{'brand': 'Honda', 'model': 'Accord', 'Year': 2010}\n",
            "{'brand': 'Honda', 'Year': 2010}\n",
            "{'Year': 2010}\n"
          ],
          "name": "stdout"
        }
      ]
    }
  ]
}